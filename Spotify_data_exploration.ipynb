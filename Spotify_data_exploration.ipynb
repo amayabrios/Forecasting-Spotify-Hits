{
 "cells": [
  {
   "cell_type": "markdown",
   "metadata": {},
   "source": [
    "# An exploration of the top 100 Spotify hits from 2010-2019"
   ]
  },
  {
   "cell_type": "markdown",
   "metadata": {},
   "source": [
    "## Table of Contents\n",
    "* [Set Up](#setup)\n",
    "    * [Import libraries](#libraries)\n",
    "    * [Set conventions](#conventions)\n",
    "    * [Make data accessibile](#access)\n",
    "\n",
    "* [Data Exploration](#explore)\n",
    "    * [Characteristics](#charas)\n",
    "    * [Display (pre-normalization)](#previs)\n",
    "        * [Notes on the histograms](#histnotes)\n",
    "    * [Feature Engineering](#featengin)\n",
    "        \n",
    "* [Predictions](#predict)\n",
    "    \n",
    "* [Normalization](#norm)\n",
    "    * [Split Data](#split)\n",
    "    * [Calculate](#calcnorm)\n",
    "        * [clipping](#clipping)\n",
    "        * [z-score](#zscore)\n",
    "    * [Display (post-normalization)](#postvis)\n",
    "        * [Notes on the violin plots](#violinnotes)"
   ]
  },
  {
   "cell_type": "markdown",
   "metadata": {},
   "source": [
    "## Set Up <a class=\"anchor\" id=\"setup\"></a>"
   ]
  },
  {
   "cell_type": "markdown",
   "metadata": {},
   "source": [
    "### Import libraries <a class=\"anchor\" id=\"libraries\"></a>"
   ]
  },
  {
   "cell_type": "code",
   "execution_count": 1,
   "metadata": {},
   "outputs": [],
   "source": [
    "from os import path\n",
    "import csv\n",
    "import opendatasets as od\n",
    "import pandas as pd\n",
    "import numpy as np\n",
    "import seaborn as sns\n",
    "\n",
    "import IPython\n",
    "import IPython.display\n",
    "from ipywidgets import widgets, interactive, fixed\n",
    "import matplotlib as mpl\n",
    "import matplotlib.pyplot as plt\n",
    "\n",
    "import dataframe_image as dfi"
   ]
  },
  {
   "cell_type": "markdown",
   "metadata": {},
   "source": [
    "### Set conventions <a class=\"anchor\" id=\"conventions\"></a>"
   ]
  },
  {
   "cell_type": "code",
   "execution_count": 2,
   "metadata": {},
   "outputs": [],
   "source": [
    "# conventions\n",
    "%matplotlib inline\n",
    "\n",
    "mpl.rcParams['figure.figsize'] = (12,6)\n",
    "mpl.rcParams['axes.grid'] = False\n",
    "\n",
    "sns.set(style=\"whitegrid\")"
   ]
  },
  {
   "cell_type": "markdown",
   "metadata": {},
   "source": [
    "### Make data accessibe<a class=\"anchor\" id=\"access\"></a>\n",
    "Dataset found on [Kaggle](https://www.kaggle.com/datasets/muhmores/spotify-top-100-songs-of-20152019) and file renamed to something more descriptive"
   ]
  },
  {
   "cell_type": "code",
   "execution_count": 3,
   "metadata": {},
   "outputs": [],
   "source": [
    "# covert to dataframe\n",
    "file = 'hits_2010-2019.csv'\n",
    "data = pd.read_csv(file, sep=',')\n",
    "df = pd.DataFrame(data)"
   ]
  },
  {
   "cell_type": "markdown",
   "metadata": {},
   "source": [
    "## Data Exploration <a class=\"anchor\" id=\"explore\"></a>"
   ]
  },
  {
   "cell_type": "markdown",
   "metadata": {},
   "source": [
    "### Characteristics <a class=\"anchor\" id=\"charas\"></a>"
   ]
  },
  {
   "cell_type": "markdown",
   "metadata": {},
   "source": [
    "First look at the shape of the data frame. This will tell us the size of the dataset we are working with. We know from the Kaggle link to expect 1000 rows (100 hits/year x 10 years) and 17 columns of data, 17000 data points. "
   ]
  },
  {
   "cell_type": "code",
   "execution_count": 4,
   "metadata": {},
   "outputs": [
    {
     "data": {
      "text/plain": [
       "(1003, 17)"
      ]
     },
     "execution_count": 4,
     "metadata": {},
     "output_type": "execute_result"
    }
   ],
   "source": [
    "# (rows, columns)\n",
    "df.shape"
   ]
  },
  {
   "cell_type": "code",
   "execution_count": 5,
   "metadata": {},
   "outputs": [
    {
     "name": "stdout",
     "output_type": "stream",
     "text": [
      "column labels: \n",
      "0 title\n",
      "1 artist\n",
      "2 top genre\n",
      "3 year released\n",
      "4 added\n",
      "5 bpm\n",
      "6 nrgy\n",
      "7 dnce\n",
      "8 dB\n",
      "9 live\n",
      "10 val\n",
      "11 dur\n",
      "12 acous\n",
      "13 spch\n",
      "14 pop\n",
      "15 top year\n",
      "16 artist type\n"
     ]
    }
   ],
   "source": [
    "print(\"column labels: \")\n",
    "for i, label in enumerate(list(df.columns)):\n",
    "    print(i, label)"
   ]
  },
  {
   "cell_type": "code",
   "execution_count": 6,
   "metadata": {},
   "outputs": [
    {
     "data": {
      "text/plain": [
       "title             object\n",
       "artist            object\n",
       "top genre         object\n",
       "year released    float64\n",
       "added             object\n",
       "bpm              float64\n",
       "nrgy             float64\n",
       "dnce             float64\n",
       "dB               float64\n",
       "live             float64\n",
       "val              float64\n",
       "dur              float64\n",
       "acous            float64\n",
       "spch             float64\n",
       "pop              float64\n",
       "top year         float64\n",
       "artist type       object\n",
       "dtype: object"
      ]
     },
     "execution_count": 6,
     "metadata": {},
     "output_type": "execute_result"
    }
   ],
   "source": [
    "df.dtypes"
   ]
  },
  {
   "cell_type": "code",
   "execution_count": 7,
   "metadata": {},
   "outputs": [
    {
     "data": {
      "text/html": [
       "<div>\n",
       "<style scoped>\n",
       "    .dataframe tbody tr th:only-of-type {\n",
       "        vertical-align: middle;\n",
       "    }\n",
       "\n",
       "    .dataframe tbody tr th {\n",
       "        vertical-align: top;\n",
       "    }\n",
       "\n",
       "    .dataframe thead th {\n",
       "        text-align: right;\n",
       "    }\n",
       "</style>\n",
       "<table border=\"1\" class=\"dataframe\">\n",
       "  <thead>\n",
       "    <tr style=\"text-align: right;\">\n",
       "      <th></th>\n",
       "      <th>title</th>\n",
       "      <th>artist</th>\n",
       "      <th>top genre</th>\n",
       "      <th>year released</th>\n",
       "      <th>added</th>\n",
       "      <th>bpm</th>\n",
       "      <th>nrgy</th>\n",
       "      <th>dnce</th>\n",
       "      <th>dB</th>\n",
       "      <th>live</th>\n",
       "      <th>val</th>\n",
       "      <th>dur</th>\n",
       "      <th>acous</th>\n",
       "      <th>spch</th>\n",
       "      <th>pop</th>\n",
       "      <th>top year</th>\n",
       "      <th>artist type</th>\n",
       "    </tr>\n",
       "  </thead>\n",
       "  <tbody>\n",
       "    <tr>\n",
       "      <th>0</th>\n",
       "      <td>STARSTRUKK (feat. Katy Perry)</td>\n",
       "      <td>3OH!3</td>\n",
       "      <td>dance pop</td>\n",
       "      <td>2009.0</td>\n",
       "      <td>2022‑02‑17</td>\n",
       "      <td>140.0</td>\n",
       "      <td>81.0</td>\n",
       "      <td>61.0</td>\n",
       "      <td>-6.0</td>\n",
       "      <td>23.0</td>\n",
       "      <td>23.0</td>\n",
       "      <td>203.0</td>\n",
       "      <td>0.0</td>\n",
       "      <td>6.0</td>\n",
       "      <td>70.0</td>\n",
       "      <td>2010.0</td>\n",
       "      <td>Duo</td>\n",
       "    </tr>\n",
       "    <tr>\n",
       "      <th>1</th>\n",
       "      <td>My First Kiss (feat. Ke$ha)</td>\n",
       "      <td>3OH!3</td>\n",
       "      <td>dance pop</td>\n",
       "      <td>2010.0</td>\n",
       "      <td>2022‑02‑17</td>\n",
       "      <td>138.0</td>\n",
       "      <td>89.0</td>\n",
       "      <td>68.0</td>\n",
       "      <td>-4.0</td>\n",
       "      <td>36.0</td>\n",
       "      <td>83.0</td>\n",
       "      <td>192.0</td>\n",
       "      <td>1.0</td>\n",
       "      <td>8.0</td>\n",
       "      <td>68.0</td>\n",
       "      <td>2010.0</td>\n",
       "      <td>Duo</td>\n",
       "    </tr>\n",
       "    <tr>\n",
       "      <th>2</th>\n",
       "      <td>I Need A Dollar</td>\n",
       "      <td>Aloe Blacc</td>\n",
       "      <td>pop soul</td>\n",
       "      <td>2010.0</td>\n",
       "      <td>2022‑02‑17</td>\n",
       "      <td>95.0</td>\n",
       "      <td>48.0</td>\n",
       "      <td>84.0</td>\n",
       "      <td>-7.0</td>\n",
       "      <td>9.0</td>\n",
       "      <td>96.0</td>\n",
       "      <td>243.0</td>\n",
       "      <td>20.0</td>\n",
       "      <td>3.0</td>\n",
       "      <td>72.0</td>\n",
       "      <td>2010.0</td>\n",
       "      <td>Solo</td>\n",
       "    </tr>\n",
       "    <tr>\n",
       "      <th>3</th>\n",
       "      <td>Airplanes (feat. Hayley Williams of Paramore)</td>\n",
       "      <td>B.o.B</td>\n",
       "      <td>atl hip hop</td>\n",
       "      <td>2010.0</td>\n",
       "      <td>2022‑02‑17</td>\n",
       "      <td>93.0</td>\n",
       "      <td>87.0</td>\n",
       "      <td>66.0</td>\n",
       "      <td>-4.0</td>\n",
       "      <td>4.0</td>\n",
       "      <td>38.0</td>\n",
       "      <td>180.0</td>\n",
       "      <td>11.0</td>\n",
       "      <td>12.0</td>\n",
       "      <td>80.0</td>\n",
       "      <td>2010.0</td>\n",
       "      <td>Solo</td>\n",
       "    </tr>\n",
       "    <tr>\n",
       "      <th>4</th>\n",
       "      <td>Nothin' on You (feat. Bruno Mars)</td>\n",
       "      <td>B.o.B</td>\n",
       "      <td>atl hip hop</td>\n",
       "      <td>2010.0</td>\n",
       "      <td>2022‑02‑17</td>\n",
       "      <td>104.0</td>\n",
       "      <td>85.0</td>\n",
       "      <td>69.0</td>\n",
       "      <td>-6.0</td>\n",
       "      <td>9.0</td>\n",
       "      <td>74.0</td>\n",
       "      <td>268.0</td>\n",
       "      <td>39.0</td>\n",
       "      <td>5.0</td>\n",
       "      <td>79.0</td>\n",
       "      <td>2010.0</td>\n",
       "      <td>Solo</td>\n",
       "    </tr>\n",
       "  </tbody>\n",
       "</table>\n",
       "</div>"
      ],
      "text/plain": [
       "                                           title      artist    top genre  \\\n",
       "0                  STARSTRUKK (feat. Katy Perry)       3OH!3    dance pop   \n",
       "1                    My First Kiss (feat. Ke$ha)       3OH!3    dance pop   \n",
       "2                                I Need A Dollar  Aloe Blacc     pop soul   \n",
       "3  Airplanes (feat. Hayley Williams of Paramore)       B.o.B  atl hip hop   \n",
       "4              Nothin' on You (feat. Bruno Mars)       B.o.B  atl hip hop   \n",
       "\n",
       "   year released       added    bpm  nrgy  dnce   dB  live   val    dur  \\\n",
       "0         2009.0  2022‑02‑17  140.0  81.0  61.0 -6.0  23.0  23.0  203.0   \n",
       "1         2010.0  2022‑02‑17  138.0  89.0  68.0 -4.0  36.0  83.0  192.0   \n",
       "2         2010.0  2022‑02‑17   95.0  48.0  84.0 -7.0   9.0  96.0  243.0   \n",
       "3         2010.0  2022‑02‑17   93.0  87.0  66.0 -4.0   4.0  38.0  180.0   \n",
       "4         2010.0  2022‑02‑17  104.0  85.0  69.0 -6.0   9.0  74.0  268.0   \n",
       "\n",
       "   acous  spch   pop  top year artist type  \n",
       "0    0.0   6.0  70.0    2010.0         Duo  \n",
       "1    1.0   8.0  68.0    2010.0         Duo  \n",
       "2   20.0   3.0  72.0    2010.0        Solo  \n",
       "3   11.0  12.0  80.0    2010.0        Solo  \n",
       "4   39.0   5.0  79.0    2010.0        Solo  "
      ]
     },
     "execution_count": 7,
     "metadata": {},
     "output_type": "execute_result"
    }
   ],
   "source": [
    "# print first few rows\n",
    "# note: data sorted sequentially increasing by 'top year'\n",
    "df.head()"
   ]
  },
  {
   "cell_type": "markdown",
   "metadata": {},
   "source": [
    "Below is the list of features measured on a scale from 0-100, low to high respectively. For more information on each feature visit the [Spotify API](https://developer.spotify.com/documentation/web-api/reference/#/operations/get-several-audio-features)\n",
    "\n",
    "scaled_feat = [energy (nrgy), danceability (dnce), live (live), valence (val), acousticness (acous), speechiness (spch), popularity (pop)]"
   ]
  },
  {
   "cell_type": "code",
   "execution_count": 8,
   "metadata": {},
   "outputs": [
    {
     "data": {
      "text/html": [
       "<div>\n",
       "<style scoped>\n",
       "    .dataframe tbody tr th:only-of-type {\n",
       "        vertical-align: middle;\n",
       "    }\n",
       "\n",
       "    .dataframe tbody tr th {\n",
       "        vertical-align: top;\n",
       "    }\n",
       "\n",
       "    .dataframe thead th {\n",
       "        text-align: right;\n",
       "    }\n",
       "</style>\n",
       "<table border=\"1\" class=\"dataframe\">\n",
       "  <thead>\n",
       "    <tr style=\"text-align: right;\">\n",
       "      <th></th>\n",
       "      <th>count</th>\n",
       "      <th>mean</th>\n",
       "      <th>std</th>\n",
       "      <th>min</th>\n",
       "      <th>25%</th>\n",
       "      <th>50%</th>\n",
       "      <th>75%</th>\n",
       "      <th>max</th>\n",
       "    </tr>\n",
       "  </thead>\n",
       "  <tbody>\n",
       "    <tr>\n",
       "      <th>year released</th>\n",
       "      <td>1000.0</td>\n",
       "      <td>2014.390</td>\n",
       "      <td>3.241359</td>\n",
       "      <td>1975.0</td>\n",
       "      <td>2012.0</td>\n",
       "      <td>2014.0</td>\n",
       "      <td>2017.00</td>\n",
       "      <td>2021.0</td>\n",
       "    </tr>\n",
       "    <tr>\n",
       "      <th>bpm</th>\n",
       "      <td>1000.0</td>\n",
       "      <td>121.262</td>\n",
       "      <td>26.238022</td>\n",
       "      <td>65.0</td>\n",
       "      <td>100.0</td>\n",
       "      <td>122.0</td>\n",
       "      <td>134.00</td>\n",
       "      <td>206.0</td>\n",
       "    </tr>\n",
       "    <tr>\n",
       "      <th>nrgy</th>\n",
       "      <td>1000.0</td>\n",
       "      <td>69.502</td>\n",
       "      <td>15.961415</td>\n",
       "      <td>6.0</td>\n",
       "      <td>59.0</td>\n",
       "      <td>71.0</td>\n",
       "      <td>81.25</td>\n",
       "      <td>98.0</td>\n",
       "    </tr>\n",
       "    <tr>\n",
       "      <th>dnce</th>\n",
       "      <td>1000.0</td>\n",
       "      <td>66.876</td>\n",
       "      <td>13.121921</td>\n",
       "      <td>19.0</td>\n",
       "      <td>59.0</td>\n",
       "      <td>68.0</td>\n",
       "      <td>75.00</td>\n",
       "      <td>96.0</td>\n",
       "    </tr>\n",
       "    <tr>\n",
       "      <th>dB</th>\n",
       "      <td>1000.0</td>\n",
       "      <td>-5.663</td>\n",
       "      <td>2.025224</td>\n",
       "      <td>-18.0</td>\n",
       "      <td>-7.0</td>\n",
       "      <td>-5.0</td>\n",
       "      <td>-4.00</td>\n",
       "      <td>-1.0</td>\n",
       "    </tr>\n",
       "    <tr>\n",
       "      <th>live</th>\n",
       "      <td>1000.0</td>\n",
       "      <td>17.911</td>\n",
       "      <td>13.431511</td>\n",
       "      <td>2.0</td>\n",
       "      <td>9.0</td>\n",
       "      <td>12.0</td>\n",
       "      <td>23.00</td>\n",
       "      <td>83.0</td>\n",
       "    </tr>\n",
       "    <tr>\n",
       "      <th>val</th>\n",
       "      <td>1000.0</td>\n",
       "      <td>50.901</td>\n",
       "      <td>21.563399</td>\n",
       "      <td>4.0</td>\n",
       "      <td>35.0</td>\n",
       "      <td>50.5</td>\n",
       "      <td>68.00</td>\n",
       "      <td>97.0</td>\n",
       "    </tr>\n",
       "    <tr>\n",
       "      <th>dur</th>\n",
       "      <td>1000.0</td>\n",
       "      <td>220.406</td>\n",
       "      <td>39.927677</td>\n",
       "      <td>113.0</td>\n",
       "      <td>197.0</td>\n",
       "      <td>216.0</td>\n",
       "      <td>237.00</td>\n",
       "      <td>688.0</td>\n",
       "    </tr>\n",
       "    <tr>\n",
       "      <th>acous</th>\n",
       "      <td>1000.0</td>\n",
       "      <td>14.369</td>\n",
       "      <td>19.454030</td>\n",
       "      <td>0.0</td>\n",
       "      <td>2.0</td>\n",
       "      <td>6.0</td>\n",
       "      <td>19.00</td>\n",
       "      <td>98.0</td>\n",
       "    </tr>\n",
       "    <tr>\n",
       "      <th>spch</th>\n",
       "      <td>1000.0</td>\n",
       "      <td>10.064</td>\n",
       "      <td>9.276743</td>\n",
       "      <td>2.0</td>\n",
       "      <td>4.0</td>\n",
       "      <td>6.0</td>\n",
       "      <td>12.00</td>\n",
       "      <td>53.0</td>\n",
       "    </tr>\n",
       "    <tr>\n",
       "      <th>pop</th>\n",
       "      <td>1000.0</td>\n",
       "      <td>74.840</td>\n",
       "      <td>8.807836</td>\n",
       "      <td>35.0</td>\n",
       "      <td>70.0</td>\n",
       "      <td>76.0</td>\n",
       "      <td>81.00</td>\n",
       "      <td>95.0</td>\n",
       "    </tr>\n",
       "    <tr>\n",
       "      <th>top year</th>\n",
       "      <td>1000.0</td>\n",
       "      <td>2014.500</td>\n",
       "      <td>2.873719</td>\n",
       "      <td>2010.0</td>\n",
       "      <td>2012.0</td>\n",
       "      <td>2014.5</td>\n",
       "      <td>2017.00</td>\n",
       "      <td>2019.0</td>\n",
       "    </tr>\n",
       "  </tbody>\n",
       "</table>\n",
       "</div>"
      ],
      "text/plain": [
       "                count      mean        std     min     25%     50%      75%  \\\n",
       "year released  1000.0  2014.390   3.241359  1975.0  2012.0  2014.0  2017.00   \n",
       "bpm            1000.0   121.262  26.238022    65.0   100.0   122.0   134.00   \n",
       "nrgy           1000.0    69.502  15.961415     6.0    59.0    71.0    81.25   \n",
       "dnce           1000.0    66.876  13.121921    19.0    59.0    68.0    75.00   \n",
       "dB             1000.0    -5.663   2.025224   -18.0    -7.0    -5.0    -4.00   \n",
       "live           1000.0    17.911  13.431511     2.0     9.0    12.0    23.00   \n",
       "val            1000.0    50.901  21.563399     4.0    35.0    50.5    68.00   \n",
       "dur            1000.0   220.406  39.927677   113.0   197.0   216.0   237.00   \n",
       "acous          1000.0    14.369  19.454030     0.0     2.0     6.0    19.00   \n",
       "spch           1000.0    10.064   9.276743     2.0     4.0     6.0    12.00   \n",
       "pop            1000.0    74.840   8.807836    35.0    70.0    76.0    81.00   \n",
       "top year       1000.0  2014.500   2.873719  2010.0  2012.0  2014.5  2017.00   \n",
       "\n",
       "                  max  \n",
       "year released  2021.0  \n",
       "bpm             206.0  \n",
       "nrgy             98.0  \n",
       "dnce             96.0  \n",
       "dB               -1.0  \n",
       "live             83.0  \n",
       "val              97.0  \n",
       "dur             688.0  \n",
       "acous            98.0  \n",
       "spch             53.0  \n",
       "pop              95.0  \n",
       "top year       2019.0  "
      ]
     },
     "execution_count": 8,
     "metadata": {},
     "output_type": "execute_result"
    }
   ],
   "source": [
    "# function will return stats for numerical columns only\n",
    "df.describe().transpose()"
   ]
  },
  {
   "cell_type": "markdown",
   "metadata": {},
   "source": [
    "### Display (before normalization) <a class=\"anchor\" id=\"previs\"></a>"
   ]
  },
  {
   "cell_type": "markdown",
   "metadata": {},
   "source": [
    "We are mapping the spread and density of each feature. This allows us to get a general idea of the distribution of each feature. We will refer to these graphs later when prepping the data for further analysis."
   ]
  },
  {
   "cell_type": "code",
   "execution_count": 9,
   "metadata": {},
   "outputs": [],
   "source": [
    "# create a dropdown menu so we can easily switch between histograms\n",
    "def opt(_list):\n",
    "    feature = widgets.Dropdown(options=_list,\n",
    "                 value='artist', # this defines the default display\n",
    "                 description='Feature:',\n",
    "                 disabled=False,)\n",
    "    return feature\n",
    "\n",
    "# define function for a histogram, feature vs. top year\n",
    "def hist2d(feature:str, df):\n",
    "    sns.histplot(data=df, x='top year', y=feature, stat='count', discrete=(True, True), cbar=True)\n",
    "#     name = f'hist_{feature}.png'\n",
    "#     plt.savefig(name)\n",
    "    plt.show()"
   ]
  },
  {
   "cell_type": "code",
   "execution_count": 27,
   "metadata": {},
   "outputs": [
    {
     "data": {
      "application/vnd.jupyter.widget-view+json": {
       "model_id": "86bd6a8bf7d9445b800f4286c739b9ae",
       "version_major": 2,
       "version_minor": 0
      },
      "text/plain": [
       "interactive(children=(Dropdown(description='Feature:', options=('artist', 'top genre', 'year released', 'added…"
      ]
     },
     "execution_count": 27,
     "metadata": {},
     "output_type": "execute_result"
    }
   ],
   "source": [
    "# create list of all features we are displaying\n",
    "features_list = list(df.columns)[1:]\n",
    "\n",
    "# return the histograms\n",
    "feature = opt(features_list)\n",
    "interactive(hist2d, feature=feature, df=fixed(df))"
   ]
  },
  {
   "cell_type": "markdown",
   "metadata": {},
   "source": [
    "#### Initial impressions of the data:<a class=\"anchor\" id=\"histnotes\"></a>\n",
    "\n",
    "- The distribution of 'year released' initially does not make sense. How can a song be a chart topper in a year prior to it's release? \n",
    "    - Upon further investigation, I learned that the 'year released' column was determined by the album release \n",
    "        date. The singles that charted off the album were released ahead of time in promotion of the album. \n",
    "    - There are 75 songs with this error present.\n",
    "    \n",
    "- 'top genre' and 'artist' is a bit of a mess to look at. Though based on the colorbar, some artists have been more successful than others and one of the genres dominated the charts. Almost half of all songs fell into this one genre. The popularity of that genre was cut basically in half in 2017 and that trend has not returned since.\n",
    "\n",
    "- Beginning to see small trend down of 'dur' suggesting pop songs are becoming shorter. Are attention spans waning?\n",
    "\n",
    "- There is also a small trend down of energy. Although these trends are too small to be considered actual trends. The extent of the data is too small to draw such conclusions (only 10 years). \n",
    "\n",
    "- 'acous' and 'live' reminds us that most music is electronically produced today. Possibly though they are becoming more acoustic, meaning the interest in organic sounds is becoming popular again. \n",
    "\n",
    "- 'added' is irrelevant. It is relational to when Spotify added a song to the playlist, not in reference to it's actual popularity. "
   ]
  },
  {
   "cell_type": "markdown",
   "metadata": {},
   "source": [
    "### Feature Engineering <a class=\"anchor\" id=\"featengin\"></a>"
   ]
  },
  {
   "cell_type": "markdown",
   "metadata": {},
   "source": [
    "For now, we only care about columns of numerical measure. Drop everything else. We will return later to access text data so we should not edit the original dataframe df. Instead, create a new dataframe of all numerical data to analyze. "
   ]
  },
  {
   "cell_type": "code",
   "execution_count": 11,
   "metadata": {},
   "outputs": [
    {
     "data": {
      "text/plain": [
       "Index(['year released', 'bpm', 'nrgy', 'dnce', 'dB', 'live', 'val', 'dur',\n",
       "       'acous', 'spch', 'pop', 'top year'],\n",
       "      dtype='object')"
      ]
     },
     "execution_count": 11,
     "metadata": {},
     "output_type": "execute_result"
    }
   ],
   "source": [
    "df_num = df.select_dtypes(include='float64')\n",
    "df_num.columns"
   ]
  },
  {
   "cell_type": "code",
   "execution_count": 12,
   "metadata": {},
   "outputs": [],
   "source": [
    "# top year is the only dtype float64 irrelevant to this analysis\n",
    "df_num.drop(labels='top year', axis=1, inplace=True)"
   ]
  },
  {
   "cell_type": "code",
   "execution_count": 13,
   "metadata": {},
   "outputs": [
    {
     "name": "stdout",
     "output_type": "stream",
     "text": [
      "# of inconsistent data points is 75\n"
     ]
    }
   ],
   "source": [
    "df_err = df.loc[df['year released'] > df['top year']]\n",
    "print('# of inconsistent data points is', df_err.shape[0])"
   ]
  },
  {
   "cell_type": "markdown",
   "metadata": {},
   "source": [
    "From the histogram we noticed inconsistencies in the distribution of 'top year'. There are 75 inconsistent data points. We aren't actually interested the year the song was released in. Let's redefine and remeasure 'year released' as the offset from 'top year'. "
   ]
  },
  {
   "cell_type": "code",
   "execution_count": 14,
   "metadata": {},
   "outputs": [],
   "source": [
    "df_num['year released'] = df_num['year released'].sub(df['top year'])"
   ]
  },
  {
   "cell_type": "markdown",
   "metadata": {},
   "source": [
    "Note: A negative 'year released' value now means that the song was released x years before it hit the charts. A positive 'year released' value indicates how many years after the album released did the single peak. "
   ]
  },
  {
   "cell_type": "code",
   "execution_count": 15,
   "metadata": {},
   "outputs": [],
   "source": [
    "# convert columns that measure on a scale of 0-100 to 0-1\n",
    "list1 = ['nrgy', 'dnce', 'live', 'val', 'acous', 'spch', 'pop']\n",
    "df_num[list1] = df_num[list1].div(100)"
   ]
  },
  {
   "cell_type": "code",
   "execution_count": 16,
   "metadata": {},
   "outputs": [
    {
     "data": {
      "text/html": [
       "<div>\n",
       "<style scoped>\n",
       "    .dataframe tbody tr th:only-of-type {\n",
       "        vertical-align: middle;\n",
       "    }\n",
       "\n",
       "    .dataframe tbody tr th {\n",
       "        vertical-align: top;\n",
       "    }\n",
       "\n",
       "    .dataframe thead th {\n",
       "        text-align: right;\n",
       "    }\n",
       "</style>\n",
       "<table border=\"1\" class=\"dataframe\">\n",
       "  <thead>\n",
       "    <tr style=\"text-align: right;\">\n",
       "      <th></th>\n",
       "      <th>year released</th>\n",
       "      <th>bpm</th>\n",
       "      <th>nrgy</th>\n",
       "      <th>dnce</th>\n",
       "      <th>dB</th>\n",
       "      <th>live</th>\n",
       "      <th>val</th>\n",
       "      <th>dur</th>\n",
       "      <th>acous</th>\n",
       "      <th>spch</th>\n",
       "      <th>pop</th>\n",
       "    </tr>\n",
       "  </thead>\n",
       "  <tbody>\n",
       "    <tr>\n",
       "      <th>0</th>\n",
       "      <td>-1.0</td>\n",
       "      <td>140.0</td>\n",
       "      <td>0.81</td>\n",
       "      <td>0.61</td>\n",
       "      <td>-6.0</td>\n",
       "      <td>0.23</td>\n",
       "      <td>0.23</td>\n",
       "      <td>203.0</td>\n",
       "      <td>0.00</td>\n",
       "      <td>0.06</td>\n",
       "      <td>0.70</td>\n",
       "    </tr>\n",
       "    <tr>\n",
       "      <th>1</th>\n",
       "      <td>0.0</td>\n",
       "      <td>138.0</td>\n",
       "      <td>0.89</td>\n",
       "      <td>0.68</td>\n",
       "      <td>-4.0</td>\n",
       "      <td>0.36</td>\n",
       "      <td>0.83</td>\n",
       "      <td>192.0</td>\n",
       "      <td>0.01</td>\n",
       "      <td>0.08</td>\n",
       "      <td>0.68</td>\n",
       "    </tr>\n",
       "    <tr>\n",
       "      <th>2</th>\n",
       "      <td>0.0</td>\n",
       "      <td>95.0</td>\n",
       "      <td>0.48</td>\n",
       "      <td>0.84</td>\n",
       "      <td>-7.0</td>\n",
       "      <td>0.09</td>\n",
       "      <td>0.96</td>\n",
       "      <td>243.0</td>\n",
       "      <td>0.20</td>\n",
       "      <td>0.03</td>\n",
       "      <td>0.72</td>\n",
       "    </tr>\n",
       "    <tr>\n",
       "      <th>3</th>\n",
       "      <td>0.0</td>\n",
       "      <td>93.0</td>\n",
       "      <td>0.87</td>\n",
       "      <td>0.66</td>\n",
       "      <td>-4.0</td>\n",
       "      <td>0.04</td>\n",
       "      <td>0.38</td>\n",
       "      <td>180.0</td>\n",
       "      <td>0.11</td>\n",
       "      <td>0.12</td>\n",
       "      <td>0.80</td>\n",
       "    </tr>\n",
       "    <tr>\n",
       "      <th>4</th>\n",
       "      <td>0.0</td>\n",
       "      <td>104.0</td>\n",
       "      <td>0.85</td>\n",
       "      <td>0.69</td>\n",
       "      <td>-6.0</td>\n",
       "      <td>0.09</td>\n",
       "      <td>0.74</td>\n",
       "      <td>268.0</td>\n",
       "      <td>0.39</td>\n",
       "      <td>0.05</td>\n",
       "      <td>0.79</td>\n",
       "    </tr>\n",
       "  </tbody>\n",
       "</table>\n",
       "</div>"
      ],
      "text/plain": [
       "   year released    bpm  nrgy  dnce   dB  live   val    dur  acous  spch   pop\n",
       "0           -1.0  140.0  0.81  0.61 -6.0  0.23  0.23  203.0   0.00  0.06  0.70\n",
       "1            0.0  138.0  0.89  0.68 -4.0  0.36  0.83  192.0   0.01  0.08  0.68\n",
       "2            0.0   95.0  0.48  0.84 -7.0  0.09  0.96  243.0   0.20  0.03  0.72\n",
       "3            0.0   93.0  0.87  0.66 -4.0  0.04  0.38  180.0   0.11  0.12  0.80\n",
       "4            0.0  104.0  0.85  0.69 -6.0  0.09  0.74  268.0   0.39  0.05  0.79"
      ]
     },
     "execution_count": 16,
     "metadata": {},
     "output_type": "execute_result"
    }
   ],
   "source": [
    "# return some data to verify changes have been made\n",
    "df_num.head()"
   ]
  },
  {
   "cell_type": "markdown",
   "metadata": {},
   "source": [
    "## Predictions <a class=\"anchor\" id=\"predict\"></a>\n",
    "\n",
    "The goal is create an algorithm that will forecast the features of next year's pop hits. \"Intuition\" in this case is based on the range I expected the algorithm to output within. For most of the features, I expect around 68% of the forecasting to fall in the range of the mean +/- 1 std. I will specify later on why I can't do this for all the features."
   ]
  },
  {
   "cell_type": "code",
   "execution_count": 17,
   "metadata": {},
   "outputs": [
    {
     "data": {
      "text/html": [
       "<div>\n",
       "<style scoped>\n",
       "    .dataframe tbody tr th:only-of-type {\n",
       "        vertical-align: middle;\n",
       "    }\n",
       "\n",
       "    .dataframe tbody tr th {\n",
       "        vertical-align: top;\n",
       "    }\n",
       "\n",
       "    .dataframe thead th {\n",
       "        text-align: right;\n",
       "    }\n",
       "</style>\n",
       "<table border=\"1\" class=\"dataframe\">\n",
       "  <thead>\n",
       "    <tr style=\"text-align: right;\">\n",
       "      <th></th>\n",
       "      <th>count</th>\n",
       "      <th>mean</th>\n",
       "      <th>std</th>\n",
       "      <th>min</th>\n",
       "      <th>25%</th>\n",
       "      <th>50%</th>\n",
       "      <th>75%</th>\n",
       "      <th>max</th>\n",
       "    </tr>\n",
       "  </thead>\n",
       "  <tbody>\n",
       "    <tr>\n",
       "      <th>year released</th>\n",
       "      <td>1000.0</td>\n",
       "      <td>-0.11000</td>\n",
       "      <td>1.687824</td>\n",
       "      <td>-44.00</td>\n",
       "      <td>0.00</td>\n",
       "      <td>0.000</td>\n",
       "      <td>0.0000</td>\n",
       "      <td>10.00</td>\n",
       "    </tr>\n",
       "    <tr>\n",
       "      <th>bpm</th>\n",
       "      <td>1000.0</td>\n",
       "      <td>121.26200</td>\n",
       "      <td>26.238022</td>\n",
       "      <td>65.00</td>\n",
       "      <td>100.00</td>\n",
       "      <td>122.000</td>\n",
       "      <td>134.0000</td>\n",
       "      <td>206.00</td>\n",
       "    </tr>\n",
       "    <tr>\n",
       "      <th>nrgy</th>\n",
       "      <td>1000.0</td>\n",
       "      <td>0.69502</td>\n",
       "      <td>0.159614</td>\n",
       "      <td>0.06</td>\n",
       "      <td>0.59</td>\n",
       "      <td>0.710</td>\n",
       "      <td>0.8125</td>\n",
       "      <td>0.98</td>\n",
       "    </tr>\n",
       "    <tr>\n",
       "      <th>dnce</th>\n",
       "      <td>1000.0</td>\n",
       "      <td>0.66876</td>\n",
       "      <td>0.131219</td>\n",
       "      <td>0.19</td>\n",
       "      <td>0.59</td>\n",
       "      <td>0.680</td>\n",
       "      <td>0.7500</td>\n",
       "      <td>0.96</td>\n",
       "    </tr>\n",
       "    <tr>\n",
       "      <th>dB</th>\n",
       "      <td>1000.0</td>\n",
       "      <td>-5.66300</td>\n",
       "      <td>2.025224</td>\n",
       "      <td>-18.00</td>\n",
       "      <td>-7.00</td>\n",
       "      <td>-5.000</td>\n",
       "      <td>-4.0000</td>\n",
       "      <td>-1.00</td>\n",
       "    </tr>\n",
       "    <tr>\n",
       "      <th>live</th>\n",
       "      <td>1000.0</td>\n",
       "      <td>0.17911</td>\n",
       "      <td>0.134315</td>\n",
       "      <td>0.02</td>\n",
       "      <td>0.09</td>\n",
       "      <td>0.120</td>\n",
       "      <td>0.2300</td>\n",
       "      <td>0.83</td>\n",
       "    </tr>\n",
       "    <tr>\n",
       "      <th>val</th>\n",
       "      <td>1000.0</td>\n",
       "      <td>0.50901</td>\n",
       "      <td>0.215634</td>\n",
       "      <td>0.04</td>\n",
       "      <td>0.35</td>\n",
       "      <td>0.505</td>\n",
       "      <td>0.6800</td>\n",
       "      <td>0.97</td>\n",
       "    </tr>\n",
       "    <tr>\n",
       "      <th>dur</th>\n",
       "      <td>1000.0</td>\n",
       "      <td>220.40600</td>\n",
       "      <td>39.927677</td>\n",
       "      <td>113.00</td>\n",
       "      <td>197.00</td>\n",
       "      <td>216.000</td>\n",
       "      <td>237.0000</td>\n",
       "      <td>688.00</td>\n",
       "    </tr>\n",
       "    <tr>\n",
       "      <th>acous</th>\n",
       "      <td>1000.0</td>\n",
       "      <td>0.14369</td>\n",
       "      <td>0.194540</td>\n",
       "      <td>0.00</td>\n",
       "      <td>0.02</td>\n",
       "      <td>0.060</td>\n",
       "      <td>0.1900</td>\n",
       "      <td>0.98</td>\n",
       "    </tr>\n",
       "    <tr>\n",
       "      <th>spch</th>\n",
       "      <td>1000.0</td>\n",
       "      <td>0.10064</td>\n",
       "      <td>0.092767</td>\n",
       "      <td>0.02</td>\n",
       "      <td>0.04</td>\n",
       "      <td>0.060</td>\n",
       "      <td>0.1200</td>\n",
       "      <td>0.53</td>\n",
       "    </tr>\n",
       "    <tr>\n",
       "      <th>pop</th>\n",
       "      <td>1000.0</td>\n",
       "      <td>0.74840</td>\n",
       "      <td>0.088078</td>\n",
       "      <td>0.35</td>\n",
       "      <td>0.70</td>\n",
       "      <td>0.760</td>\n",
       "      <td>0.8100</td>\n",
       "      <td>0.95</td>\n",
       "    </tr>\n",
       "  </tbody>\n",
       "</table>\n",
       "</div>"
      ],
      "text/plain": [
       "                count       mean        std     min     25%      50%  \\\n",
       "year released  1000.0   -0.11000   1.687824  -44.00    0.00    0.000   \n",
       "bpm            1000.0  121.26200  26.238022   65.00  100.00  122.000   \n",
       "nrgy           1000.0    0.69502   0.159614    0.06    0.59    0.710   \n",
       "dnce           1000.0    0.66876   0.131219    0.19    0.59    0.680   \n",
       "dB             1000.0   -5.66300   2.025224  -18.00   -7.00   -5.000   \n",
       "live           1000.0    0.17911   0.134315    0.02    0.09    0.120   \n",
       "val            1000.0    0.50901   0.215634    0.04    0.35    0.505   \n",
       "dur            1000.0  220.40600  39.927677  113.00  197.00  216.000   \n",
       "acous          1000.0    0.14369   0.194540    0.00    0.02    0.060   \n",
       "spch           1000.0    0.10064   0.092767    0.02    0.04    0.060   \n",
       "pop            1000.0    0.74840   0.088078    0.35    0.70    0.760   \n",
       "\n",
       "                    75%     max  \n",
       "year released    0.0000   10.00  \n",
       "bpm            134.0000  206.00  \n",
       "nrgy             0.8125    0.98  \n",
       "dnce             0.7500    0.96  \n",
       "dB              -4.0000   -1.00  \n",
       "live             0.2300    0.83  \n",
       "val              0.6800    0.97  \n",
       "dur            237.0000  688.00  \n",
       "acous            0.1900    0.98  \n",
       "spch             0.1200    0.53  \n",
       "pop              0.8100    0.95  "
      ]
     },
     "execution_count": 17,
     "metadata": {},
     "output_type": "execute_result"
    }
   ],
   "source": [
    "# print to reminds us of the spread of the data\n",
    "df_num.describe().transpose()"
   ]
  },
  {
   "cell_type": "code",
   "execution_count": 18,
   "metadata": {},
   "outputs": [
    {
     "data": {
      "text/html": [
       "<div>\n",
       "<style scoped>\n",
       "    .dataframe tbody tr th:only-of-type {\n",
       "        vertical-align: middle;\n",
       "    }\n",
       "\n",
       "    .dataframe tbody tr th {\n",
       "        vertical-align: top;\n",
       "    }\n",
       "\n",
       "    .dataframe thead th {\n",
       "        text-align: right;\n",
       "    }\n",
       "</style>\n",
       "<table border=\"1\" class=\"dataframe\">\n",
       "  <thead>\n",
       "    <tr style=\"text-align: right;\">\n",
       "      <th></th>\n",
       "      <th>year released</th>\n",
       "      <th>bpm</th>\n",
       "      <th>nrgy</th>\n",
       "      <th>dnce</th>\n",
       "      <th>dB</th>\n",
       "      <th>live</th>\n",
       "      <th>val</th>\n",
       "      <th>dur</th>\n",
       "      <th>acous</th>\n",
       "      <th>spch</th>\n",
       "      <th>pop</th>\n",
       "    </tr>\n",
       "  </thead>\n",
       "  <tbody>\n",
       "    <tr>\n",
       "      <th>lower bound</th>\n",
       "      <td>-1.797824</td>\n",
       "      <td>95.023978</td>\n",
       "      <td>0.535406</td>\n",
       "      <td>0.537541</td>\n",
       "      <td>-7.688224</td>\n",
       "      <td>0.044795</td>\n",
       "      <td>0.293376</td>\n",
       "      <td>180.478323</td>\n",
       "      <td>-0.05085</td>\n",
       "      <td>0.007873</td>\n",
       "      <td>0.660322</td>\n",
       "    </tr>\n",
       "    <tr>\n",
       "      <th>upper bound</th>\n",
       "      <td>1.577824</td>\n",
       "      <td>147.500022</td>\n",
       "      <td>0.854634</td>\n",
       "      <td>0.799979</td>\n",
       "      <td>-3.637776</td>\n",
       "      <td>0.313425</td>\n",
       "      <td>0.724644</td>\n",
       "      <td>260.333677</td>\n",
       "      <td>0.33823</td>\n",
       "      <td>0.193407</td>\n",
       "      <td>0.836478</td>\n",
       "    </tr>\n",
       "  </tbody>\n",
       "</table>\n",
       "</div>"
      ],
      "text/plain": [
       "             year released         bpm      nrgy      dnce        dB  \\\n",
       "lower bound      -1.797824   95.023978  0.535406  0.537541 -7.688224   \n",
       "upper bound       1.577824  147.500022  0.854634  0.799979 -3.637776   \n",
       "\n",
       "                 live       val         dur    acous      spch       pop  \n",
       "lower bound  0.044795  0.293376  180.478323 -0.05085  0.007873  0.660322  \n",
       "upper bound  0.313425  0.724644  260.333677  0.33823  0.193407  0.836478  "
      ]
     },
     "execution_count": 18,
     "metadata": {},
     "output_type": "execute_result"
    }
   ],
   "source": [
    "mean = df_num.mean(axis=0, skipna=True)\n",
    "std = df_num.std(axis=0, skipna=True)\n",
    "\n",
    "# create lower and upper bounds of expected output range\n",
    "LOWER = mean - std\n",
    "UPPER = mean + std\n",
    "df_predict = pd.DataFrame({'lower bound': LOWER, \n",
    "                           'upper bound': UPPER},\n",
    "                          index=list(df_num.columns))\n",
    "# print the predictions\n",
    "df_predict = df_predict.transpose()\n",
    "df_predict"
   ]
  },
  {
   "cell_type": "markdown",
   "metadata": {},
   "source": [
    "Make corrections to upper and lower bounds based on what is logically possible\n",
    "1. Bounds of 'year released', 'bpm', 'dB', 'dur' can only be integers\n",
    "2. The column 'acous' can only be >= 0 or <= 1. \n",
    "3. We represent featues on a scale from 0-1 to the hundreths place. Adjust features predictions to match."
   ]
  },
  {
   "cell_type": "code",
   "execution_count": 19,
   "metadata": {},
   "outputs": [],
   "source": [
    "# 1\n",
    "list2 = ['year released', 'bpm', 'dB', 'dur']\n",
    "df_predict[list2] = df_predict[list2].round(0)\n",
    "\n",
    "# 2\n",
    "df_predict.loc['lower bound', 'acous'] = 0\n",
    "\n",
    "# 3\n",
    "df_predict[list1] = df_predict[list1].round(2)"
   ]
  },
  {
   "cell_type": "code",
   "execution_count": 20,
   "metadata": {},
   "outputs": [
    {
     "data": {
      "text/html": [
       "<div>\n",
       "<style scoped>\n",
       "    .dataframe tbody tr th:only-of-type {\n",
       "        vertical-align: middle;\n",
       "    }\n",
       "\n",
       "    .dataframe tbody tr th {\n",
       "        vertical-align: top;\n",
       "    }\n",
       "\n",
       "    .dataframe thead th {\n",
       "        text-align: right;\n",
       "    }\n",
       "</style>\n",
       "<table border=\"1\" class=\"dataframe\">\n",
       "  <thead>\n",
       "    <tr style=\"text-align: right;\">\n",
       "      <th></th>\n",
       "      <th>year released</th>\n",
       "      <th>bpm</th>\n",
       "      <th>nrgy</th>\n",
       "      <th>dnce</th>\n",
       "      <th>dB</th>\n",
       "      <th>live</th>\n",
       "      <th>val</th>\n",
       "      <th>dur</th>\n",
       "      <th>acous</th>\n",
       "      <th>spch</th>\n",
       "      <th>pop</th>\n",
       "    </tr>\n",
       "  </thead>\n",
       "  <tbody>\n",
       "    <tr>\n",
       "      <th>lower bound</th>\n",
       "      <td>-2.0</td>\n",
       "      <td>95.0</td>\n",
       "      <td>0.54</td>\n",
       "      <td>0.54</td>\n",
       "      <td>-8.0</td>\n",
       "      <td>0.04</td>\n",
       "      <td>0.29</td>\n",
       "      <td>180.0</td>\n",
       "      <td>0.00</td>\n",
       "      <td>0.01</td>\n",
       "      <td>0.66</td>\n",
       "    </tr>\n",
       "    <tr>\n",
       "      <th>upper bound</th>\n",
       "      <td>2.0</td>\n",
       "      <td>148.0</td>\n",
       "      <td>0.85</td>\n",
       "      <td>0.80</td>\n",
       "      <td>-4.0</td>\n",
       "      <td>0.31</td>\n",
       "      <td>0.72</td>\n",
       "      <td>260.0</td>\n",
       "      <td>0.34</td>\n",
       "      <td>0.19</td>\n",
       "      <td>0.84</td>\n",
       "    </tr>\n",
       "  </tbody>\n",
       "</table>\n",
       "</div>"
      ],
      "text/plain": [
       "             year released    bpm  nrgy  dnce   dB  live   val    dur  acous  \\\n",
       "lower bound           -2.0   95.0  0.54  0.54 -8.0  0.04  0.29  180.0   0.00   \n",
       "upper bound            2.0  148.0  0.85  0.80 -4.0  0.31  0.72  260.0   0.34   \n",
       "\n",
       "             spch   pop  \n",
       "lower bound  0.01  0.66  \n",
       "upper bound  0.19  0.84  "
      ]
     },
     "execution_count": 20,
     "metadata": {},
     "output_type": "execute_result"
    }
   ],
   "source": [
    "df_predict\n",
    "# dfi.export(df_predict, 'df_predictions.png')"
   ]
  },
  {
   "cell_type": "markdown",
   "metadata": {},
   "source": [
    "## Normalization <a class=\"anchor\" id=\"norm\"></a>"
   ]
  },
  {
   "cell_type": "markdown",
   "metadata": {},
   "source": [
    "### Split the data* <a class=\"anchor\" id=\"split\"></a>\n",
    "Data is not split at random because of the time dependency aspect of this exploration. The data size is a power of 10 so it splits evenly.\n",
    "\n",
    "70%, training set data from 2010-2016 \n",
    "\n",
    "20%, validation set data from 2017-2018\n",
    "\n",
    "10%, test set data from 2019"
   ]
  },
  {
   "cell_type": "code",
   "execution_count": 21,
   "metadata": {},
   "outputs": [],
   "source": [
    "# column_indices = {name: i for i, name in enumerate(df_num.columns)}\n",
    "\n",
    "n = len(df_num)\n",
    "\n",
    "# 70%\n",
    "train_df = df_num[0:int(n*0.7)]\n",
    "# 20%\n",
    "val_df = df_num[int(n*0.7):int(n*0.9)]\n",
    "# 10%\n",
    "test_df = df_num[int(n*0.9):]\n",
    "\n",
    "num_features = df_num.shape[1]"
   ]
  },
  {
   "cell_type": "markdown",
   "metadata": {},
   "source": [
    "### Calculate norms <a class=\"anchor\" id=\"calcnorm\"></a>"
   ]
  },
  {
   "cell_type": "markdown",
   "metadata": {},
   "source": [
    "#### Clipping <a class=\"anchor\" id=\"clipping\"></a>\n",
    "Adjust for obvious outliers."
   ]
  },
  {
   "cell_type": "code",
   "execution_count": 22,
   "metadata": {},
   "outputs": [],
   "source": [
    "def clip(df, details, in_place=True):\n",
    "    '''\n",
    "    df: dataframe we are changing\n",
    "    details (list): [feature, value, limit]\n",
    "        feature (str): name of column we are clipping\n",
    "        value (int): value of limit, limit not inclusive of this value\n",
    "        limit (bool): 0 is lower limit clipping, 1 is upper limit clipping\n",
    "    inplace (bool): whether we are changing the df in place, default True\n",
    "    \n",
    "    Cut out all data points from df which exceed upper or lower bounds\n",
    "    '''\n",
    "    feature, value, limit = details\n",
    "    \n",
    "    # pandas.DataFrame.mask keeps original value where condition False\n",
    "    if limit == 0:\n",
    "        df[feature].mask(df[feature] > value, inplace=in_place)\n",
    "    else:\n",
    "        df[feature].mask(df[feature] < value, inplace=in_place)"
   ]
  },
  {
   "cell_type": "code",
   "execution_count": 23,
   "metadata": {},
   "outputs": [],
   "source": [
    "clip_this = [['dur', 400, 0],\n",
    "             ['year released', -5, 1]]\n",
    "\n",
    "# may add back later... ['dB', -14, 1]\n",
    "\n",
    "for details in clip_this:\n",
    "    clip(df_num, details)"
   ]
  },
  {
   "cell_type": "markdown",
   "metadata": {},
   "source": [
    "#### Z-score <a class=\"anchor\" id=\"zscore\"></a>\n",
    "x' = (x - mean) / std "
   ]
  },
  {
   "cell_type": "code",
   "execution_count": 24,
   "metadata": {},
   "outputs": [],
   "source": [
    "# preventing bias:\n",
    "# only using training mean and training std so the other values don't have access to validation and test sets\n",
    "\n",
    "train_mean = train_df.mean()\n",
    "train_std = train_df.std()\n",
    "\n",
    "train_df = (train_df - train_mean) / train_std\n",
    "val_df = (val_df - train_mean) / train_std\n",
    "test_df = (test_df - train_mean) / train_std"
   ]
  },
  {
   "cell_type": "markdown",
   "metadata": {},
   "source": [
    "### Display (after normalization) <a class=\"anchor\" id=\"postvis\"></a>"
   ]
  },
  {
   "cell_type": "code",
   "execution_count": 29,
   "metadata": {
    "scrolled": false
   },
   "outputs": [
    {
     "data": {
      "image/png": "[encoded data removed]",
      "text/plain": [
       "<Figure size 1200x600 with 1 Axes>"
      ]
     },
     "metadata": {},
     "output_type": "display_data"
    }
   ],
   "source": [
    "df_std = (df_num - train_mean) / train_std\n",
    "df_std = df_std.melt(var_name='Column', value_name='Normalized')\n",
    "plt.figure(figsize=(12, 6))\n",
    "ax = sns.violinplot(x='Column', y='Normalized', data=df_std)\n",
    "_ = ax.set_xticklabels(df_num.keys(), rotation=90)\n",
    "\n",
    "# plt.savefig('norm_feats.png')"
   ]
  },
  {
   "cell_type": "code",
   "execution_count": null,
   "metadata": {},
   "outputs": [],
   "source": []
  }
 ],
 "metadata": {
  "kernelspec": {
   "display_name": "Python 3 (ipykernel)",
   "language": "python",
   "name": "python3"
  },
  "language_info": {
   "codemirror_mode": {
    "name": "ipython",
    "version": 3
   },
   "file_extension": ".py",
   "mimetype": "text/x-python",
   "name": "python",
   "nbconvert_exporter": "python",
   "pygments_lexer": "ipython3",
   "version": "3.11.2"
  }
 },
 "nbformat": 4,
 "nbformat_minor": 2
}
