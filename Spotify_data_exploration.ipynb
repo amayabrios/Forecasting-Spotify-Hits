{
 "cells": [
  {
   "cell_type": "markdown",
   "metadata": {},
   "source": [
    "# An exploration of the top 100 Spotify hits from 2010-2019"
   ]
  },
  {
   "cell_type": "markdown",
   "metadata": {},
   "source": [
    "## Table of Contents\n",
    "* [Set Up](#setup)\n",
    "    * [Import libraries](#libraries)\n",
    "    * [Set conventions](#conventions)\n",
    "    * [Make data accessibile](#access)\n",
    "\n",
    "* [Data Exploration](#explore)\n",
    "    * [Characteristics](#charas)\n",
    "    * [Display (pre-normalization)](#previs)\n",
    "    \n",
    "* [Normalization](#norm)\n",
    "    * [Split Data](#split)\n",
    "    * [Calculate](#calcnorm)\n",
    "    * [Display (post-normalization)](#postvis)\n",
    "    \n",
    "* [Feature Engineering](#featengin)\n",
    "\n",
    "* [Predictions](#predict)"
   ]
  },
  {
   "cell_type": "markdown",
   "metadata": {},
   "source": [
    "## Set Up <a class=\"anchor\" id=\"setup\"></a>"
   ]
  },
  {
   "cell_type": "markdown",
   "metadata": {},
   "source": [
    "### Import libraries <a class=\"anchor\" id=\"libraries\"></a>"
   ]
  },
  {
   "cell_type": "code",
   "execution_count": null,
   "metadata": {},
   "outputs": [],
   "source": [
    "from os import path\n",
    "import csv\n",
    "import opendatasets as od\n",
    "import pandas as pd\n",
    "import numpy as np\n",
    "import seaborn as sns\n",
    "\n",
    "import IPython\n",
    "import IPython.display\n",
    "from ipywidgets import widgets, interactive, fixed\n",
    "import matplotlib as mpl\n",
    "import matplotlib.pyplot as plt"
   ]
  },
  {
   "cell_type": "markdown",
   "metadata": {},
   "source": [
    "### Set conventions <a class=\"anchor\" id=\"conventions\"></a>"
   ]
  },
  {
   "cell_type": "code",
   "execution_count": null,
   "metadata": {},
   "outputs": [],
   "source": [
    "# conventions\n",
    "mpl.rcParams['figure.figsize'] = (8, 6)\n",
    "mpl.rcParams['axes.grid'] = False"
   ]
  },
  {
   "cell_type": "markdown",
   "metadata": {},
   "source": [
    "### Make data accessibe<a class=\"anchor\" id=\"access\"></a>"
   ]
  },
  {
   "cell_type": "code",
   "execution_count": null,
   "metadata": {},
   "outputs": [],
   "source": [
    "# TODO: update file download parameters for outside user\n",
    "\n",
    "# download dataset\n",
    "if not path.exists('hits_2010-2019.csv'):\n",
    "    od.download('https://www.kaggle.com/datasets/muhmores/spotify-top-100-songs-of-20152019')"
   ]
  },
  {
   "cell_type": "code",
   "execution_count": null,
   "metadata": {},
   "outputs": [],
   "source": [
    "# covert to dataframe\n",
    "data = pd.read_csv('hits_2010-2019.csv', sep=',')\n",
    "df = pd.DataFrame(data)"
   ]
  },
  {
   "cell_type": "markdown",
   "metadata": {},
   "source": [
    "I did this exploration ahead of time, so I already know that there are extra blank rows. I'll remove them now to prevent problems in the future, mainly being unable to perform operations on rows/columns because of NA elements."
   ]
  },
  {
   "cell_type": "code",
   "execution_count": null,
   "metadata": {},
   "outputs": [],
   "source": [
    "# remove empty rows\n",
    "df.dropna(how='all', inplace=True)"
   ]
  },
  {
   "cell_type": "markdown",
   "metadata": {},
   "source": [
    "## Data Exploration <a class=\"anchor\" id=\"explore\"></a>"
   ]
  },
  {
   "cell_type": "markdown",
   "metadata": {},
   "source": [
    "### Characteristics <a class=\"anchor\" id=\"charas\"></a>"
   ]
  },
  {
   "cell_type": "markdown",
   "metadata": {},
   "source": [
    "First look at the shape of the data frame. This will tell us the size of the dataset we are working with. We know from the Kaggle link to expect 1000 rows (100 hits/year x 10 years) and 17 columns of data, 17000 data points. "
   ]
  },
  {
   "cell_type": "code",
   "execution_count": null,
   "metadata": {},
   "outputs": [],
   "source": [
    "# (rows, columns)\n",
    "df.shape"
   ]
  },
  {
   "cell_type": "code",
   "execution_count": null,
   "metadata": {},
   "outputs": [],
   "source": [
    "print(\"column labels: \")\n",
    "for i, label in enumerate(list(df.columns)):\n",
    "    print(i, label)"
   ]
  },
  {
   "cell_type": "code",
   "execution_count": null,
   "metadata": {},
   "outputs": [],
   "source": [
    "df.dtypes\n",
    "print(\"'year released' dtype:\", df['year released'].dtypes)\n",
    "print(\"'top year' dtype:\", df['top year'].dtypes)"
   ]
  },
  {
   "cell_type": "code",
   "execution_count": null,
   "metadata": {},
   "outputs": [],
   "source": [
    "# make updates: convert year types to ints\n",
    "df['year released'] = df['year released'].astype('int64')\n",
    "df['top year'] = df['top year'].astype('int64')\n",
    "\n",
    "print(\"'year released' dtype updated to\", df['year released'].dtypes)\n",
    "print(\"'top year' dtype updated to\", df['top year'].dtypes)"
   ]
  },
  {
   "cell_type": "code",
   "execution_count": null,
   "metadata": {},
   "outputs": [],
   "source": [
    "# print first few rows\n",
    "# note: data sorted sequentially increasing by 'top year'\n",
    "df.head()"
   ]
  },
  {
   "cell_type": "code",
   "execution_count": null,
   "metadata": {},
   "outputs": [],
   "source": [
    "df.describe().transpose()"
   ]
  },
  {
   "cell_type": "markdown",
   "metadata": {},
   "source": [
    "## Feature Engineering <a class=\"anchor\" id=\"featengin\"></a>"
   ]
  },
  {
   "cell_type": "code",
   "execution_count": null,
   "metadata": {},
   "outputs": [],
   "source": [
    "# drop 'added' column, irrelevant to the goal of this project\n",
    "# Spotify publishes top hits lists when the software updates, no correlation to other features\n",
    "# so there can be no causation\n",
    "df.drop(labels='added', axis=1, inplace=True)"
   ]
  },
  {
   "cell_type": "code",
   "execution_count": null,
   "metadata": {},
   "outputs": [],
   "source": [
    "# change artist type to IDs\n",
    "artist_type_IDs = {'Solo':1, 'Duo':2, 'Trio':3, 'Band/Group':4}\n",
    "df = df.replace(artist_type_IDs)\n",
    "df['artist type'] = df['artist type'].astype('int32')"
   ]
  },
  {
   "cell_type": "code",
   "execution_count": null,
   "metadata": {},
   "outputs": [],
   "source": [
    "df.head()"
   ]
  },
  {
   "cell_type": "code",
   "execution_count": null,
   "metadata": {},
   "outputs": [],
   "source": [
    "# SKIP FOR NOW\n",
    "\n",
    "# change artist type to IDs\n",
    "artist_type_IDs = {'Solo':0, 'Duo':1, 'Trio':2, 'Band/Group':3}\n",
    "df = df.replace(artist_type_IDs)\n",
    "df['artist type'] = df['artist type'].astype('int32')\n",
    "\n",
    "# change top genre to IDs\n",
    "top_genre_IDs = {}\n",
    "ID = 1\n",
    "for i, genre in enumerate(df['top genre']):\n",
    "    if genre not in top_genre_IDs:\n",
    "        top_genre_IDs[genre] = ID\n",
    "        ID += 1\n",
    "df = df.replace(top_genre_IDs)\n",
    "df['top genre'] = df['top genre'].astype('int32')"
   ]
  },
  {
   "cell_type": "markdown",
   "metadata": {},
   "source": [
    "### Display (before normalization) <a class=\"anchor\" id=\"previs\"></a>"
   ]
  },
  {
   "cell_type": "code",
   "execution_count": null,
   "metadata": {},
   "outputs": [],
   "source": [
    "def opt(_list):\n",
    "    feature = widgets.Dropdown(options=_list,\n",
    "                 value='bpm',\n",
    "                 description='Feature:',\n",
    "                 disabled=False,)\n",
    "    return feature"
   ]
  },
  {
   "cell_type": "code",
   "execution_count": null,
   "metadata": {},
   "outputs": [],
   "source": [
    "features = list(df.columns)[4:15]\n",
    "df_test = df[features]\n",
    "df_test.head()"
   ]
  },
  {
   "cell_type": "code",
   "execution_count": null,
   "metadata": {},
   "outputs": [],
   "source": [
    "# TODO: need to updated conventions, reference 'top year' hist2d to see problem \n",
    "def hist2d(feature:str, df):\n",
    "    year_BINS = len(df) / 100 # one hundred tops songs/year\n",
    "    feat_BINS = df[feature].max() - df[feature].min()\n",
    "    plt.hist2d(df['top year'], df[feature], bins=(year_BINS, feat_BINS))\n",
    "    plt.colorbar()\n",
    "    plt.xlabel('Top Year')\n",
    "    plt.ylabel(feature)\n",
    "    plt.show()\n",
    "\n",
    "feature = opt(list(df.columns)[4:15])\n",
    "interactive(hist2d, feature=feature, df=fixed(df))"
   ]
  },
  {
   "cell_type": "code",
   "execution_count": null,
   "metadata": {},
   "outputs": [],
   "source": [
    "def hist_alt(feature:str, df):\n",
    "    sns.histplot(data=df, x=\"top year\", y=\"feature\", discrete=True, cbar=True)\n",
    "    plt.show()\n",
    "    \n",
    "feature = opt(list(df.columns)[3:16])\n",
    "interactive(hist_alt, feature=feature, df=fixed(df))"
   ]
  },
  {
   "cell_type": "code",
   "execution_count": null,
   "metadata": {},
   "outputs": [],
   "source": [
    "# SKIP FOR NOW\n",
    "def hist3d(feature:str, df):\n",
    "    fig = plt.figure()\n",
    "    COLS = df[feature].max() - df[feature].min()\n",
    "    ax = fig.add_subplot(nrows=10, ncols=COLS, index=1, projection='3d')\n",
    "\n",
    "    # data\n",
    "    _x = df['top year']\n",
    "    _y = df[feature]\n",
    "    _xx, _yy = np.meshgrid(_x, _y)\n",
    "    x, y = _xx.ravel(), _yy.ravel()\n",
    "\n",
    "    top = x + y\n",
    "    bottom = np.zeros_like(top)\n",
    "    width = depth = 1\n",
    "\n",
    "    ax.bar3d(x, y, bottom, width, depth, top, shade=True)\n",
    "    plt.show()\n",
    "    \n",
    "feature = opt(list(df.columns)[3:15])\n",
    "interactive(hist3d, feature=feature, df=fixed(df))"
   ]
  },
  {
   "cell_type": "markdown",
   "metadata": {},
   "source": [
    "## Normalization <a class=\"anchor\" id=\"norm\"></a>\n",
    "the guide tells me to apply z-score, x' = (value - mean) / std to every feature\n",
    "\n",
    "trying a few others..."
   ]
  },
  {
   "cell_type": "markdown",
   "metadata": {},
   "source": [
    "##### Split the data <a class=\"anchor\" id=\"split\"></a>\n",
    "70% training, 20% validation, 10% test\n",
    "\n",
    "TODO: EXPLAIN... not selected randomly due to time dependence of data"
   ]
  },
  {
   "cell_type": "code",
   "execution_count": null,
   "metadata": {},
   "outputs": [],
   "source": [
    "# only normalizing features of numerical measure\n",
    "df2 = df.iloc[:,3:14]  # ['year released' : 'top year']\n",
    "\n",
    "column_indices = {name: i for i, name in enumerate(df2.columns)}\n",
    "\n",
    "n = len(df2)\n",
    "# 70%\n",
    "train_df = df2[0:int(n*0.7)]\n",
    "# 20%\n",
    "val_df = df2[int(n*0.7):int(n*0.9)]\n",
    "# 30%\n",
    "test_df = df2[int(n*0.9):]\n",
    "\n",
    "num_features = df2.shape[1] # 12 features ['year released' : 'top year']"
   ]
  },
  {
   "cell_type": "markdown",
   "metadata": {},
   "source": [
    "##### Calculate norms <a class=\"anchor\" id=\"calcnorm\"></a>"
   ]
  },
  {
   "cell_type": "markdown",
   "metadata": {},
   "source": [
    "z-score normalization"
   ]
  },
  {
   "cell_type": "code",
   "execution_count": null,
   "metadata": {},
   "outputs": [],
   "source": [
    "# preventing bias:\n",
    "# only using training mean and std so the other values don't have access to validation and test sets\n",
    "\n",
    "train_mean = train_df.mean()\n",
    "train_std = train_df.std()\n",
    "\n",
    "train_df = (train_df - train_mean) / train_std\n",
    "val_df = (val_df - train_mean) / train_std\n",
    "test_df = (test_df - train_mean) / train_std"
   ]
  },
  {
   "cell_type": "code",
   "execution_count": null,
   "metadata": {},
   "outputs": [],
   "source": [
    "train_df.describe().transpose()"
   ]
  },
  {
   "cell_type": "markdown",
   "metadata": {},
   "source": [
    "##### Display (after normalization) <a class=\"anchor\" id=\"postvis\"></a>"
   ]
  },
  {
   "cell_type": "code",
   "execution_count": null,
   "metadata": {
    "scrolled": false
   },
   "outputs": [],
   "source": [
    "df2_std = (df2 - train_mean) / train_std\n",
    "df2_std = df2_std.melt(var_name='Column', value_name='Normalized')\n",
    "plt.figure(figsize=(12, 6))\n",
    "ax = sns.violinplot(x='Column', y='Normalized', data=df2_std)\n",
    "_ = ax.set_xticklabels(df2.keys(), rotation=90)"
   ]
  },
  {
   "cell_type": "markdown",
   "metadata": {},
   "source": [
    "## Predictions <a class=\"anchor\" id=\"predict\"></a>"
   ]
  },
  {
   "cell_type": "code",
   "execution_count": null,
   "metadata": {},
   "outputs": [],
   "source": []
  }
 ],
 "metadata": {
  "kernelspec": {
   "display_name": "Python 3",
   "language": "python",
   "name": "python3"
  },
  "language_info": {
   "codemirror_mode": {
    "name": "ipython",
    "version": 3
   },
   "file_extension": ".py",
   "mimetype": "text/x-python",
   "name": "python",
   "nbconvert_exporter": "python",
   "pygments_lexer": "ipython3",
   "version": "3.7.3"
  }
 },
 "nbformat": 4,
 "nbformat_minor": 2
}
